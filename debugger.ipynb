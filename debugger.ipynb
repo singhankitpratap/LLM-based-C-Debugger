{
  "nbformat": 4,
  "nbformat_minor": 0,
  "metadata": {
    "colab": {
      "provenance": []
    },
    "kernelspec": {
      "name": "python3",
      "display_name": "Python 3"
    },
    "language_info": {
      "name": "python"
    }
  },
  "cells": [
    {
      "cell_type": "markdown",
      "source": [
        "**LLM Based C++ Debugger**"
      ],
      "metadata": {
        "id": "wFrL_y-IYYBR"
      }
    },
    {
      "cell_type": "code",
      "source": [
        "import openai\n",
        "import subprocess\n",
        "import os\n",
        "import re\n",
        "\n",
        "\n",
        "openai.api_key = \"YOUR-OPENAI-API-KEY\"\n",
        "\n",
        "# MODEL_NAME = \"gpt-3.5-turbo\"  # or \"gpt-4\", etc."
      ],
      "metadata": {
        "id": "HWQIIuvDgiya"
      },
      "execution_count": null,
      "outputs": []
    },
    {
      "cell_type": "code",
      "source": [
        "import time"
      ],
      "metadata": {
        "id": "pvRDQbvHimQe"
      },
      "execution_count": null,
      "outputs": []
    },
    {
      "cell_type": "code",
      "source": [
        "\n",
        "import subprocess\n",
        "import re\n",
        "import textwrap\n",
        "\n",
        "\n",
        "###############################################################################\n",
        "# 1) Define a function to compile code with -Wall -Werror\n",
        "#    so warnings are also counted as errors.\n",
        "###############################################################################\n",
        "def compile_code(filename):\n",
        "    \"\"\"\n",
        "    Compiles the given C++ file using g++ with -Wall -Werror flags.\n",
        "    Returns a tuple (success, compiler_output):\n",
        "      - success (bool): True if compilation succeeded with no warnings/errors\n",
        "      - compiler_output (str): The combined stderr/stdout from the compiler\n",
        "    \"\"\"\n",
        "    process = subprocess.run(\n",
        "        [\"g++\", \"-Wall\", \"-Werror\", filename, \"-o\", \"fixed_executable\"],\n",
        "        capture_output=True,\n",
        "        text=True\n",
        "    )\n",
        "    success = (process.returncode == 0)\n",
        "    compiler_output = (process.stderr + \"\\n\" + process.stdout).strip()\n",
        "    return success, compiler_output\n",
        "\n",
        "###############################################################################\n",
        "# 2) Parse *all* errors from the compiler output.\n",
        "#    We'll collect them in the order they appear.\n",
        "#    Then we fix the *last* one from that list.\n",
        "###############################################################################\n",
        "def parse_all_errors(compiler_output):\n",
        "    \"\"\"\n",
        "    Looks for lines of the form:\n",
        "      fixed_code.cpp:LINE:COL: error: ...\n",
        "      fixed_code.cpp:LINE:COL: warning: ...\n",
        "    Returns a list of tuples (line_number, entire_error_line).\n",
        "    We'll keep them in the order found in the output.\n",
        "\n",
        "    If you want to ignore warnings, you can filter out lines containing 'warning:'.\n",
        "    \"\"\"\n",
        "    # We'll capture lines matching something like:\n",
        "    # \"fixed_code.cpp:123:5: error: <message>\"\n",
        "    # regex = r'(fixed_code\\.cpp:(\\d+):\\d+:\\s*(?:fatal error|error|warning):\\s*.*)'\n",
        "    regex = r'(fixed_code\\.cpp:(\\d+):\\d+: (fatal error|error|warning): .*)'\n",
        "\n",
        "    matches = re.findall(regex, compiler_output)\n",
        "    errors = []\n",
        "    for match in matches:\n",
        "        # Ensure match contains all expected groups\n",
        "        if len(match) == 3:\n",
        "            full_line, line_str, _ = match  # Ignore the error type for now\n",
        "            line_number = int(line_str)\n",
        "            errors.append((line_number, full_line))\n",
        "\n",
        "    return errors\n",
        "\n",
        "###############################################################################\n",
        "# 3) Ask the LLM to fix just the *last* error by giving the entire code\n",
        "#    and the specific error message.\n",
        "###############################################################################\n",
        "def ask_llm_to_fix_code(current_code, error_line):\n",
        "    \"\"\"\n",
        "    current_code: the entire current .cpp code as a string\n",
        "    error_line: the error message string (e.g. \"fixed_code.cpp:140:10: error: ...\")\n",
        "\n",
        "    Return the LLM's revised code (as a string).\n",
        "    \"\"\"\n",
        "    prompt = textwrap.dedent(f\"\"\"\n",
        "    You are a meticulous AI debugger.\n",
        "    Below is the full C++ code, followed by a single compiler error or warning message.\n",
        "    Please fix ONLY what is needed to address this error,\n",
        "    and keep the rest of the code intact.\n",
        "\n",
        "    --- FULL CODE ---\n",
        "    {current_code}\n",
        "\n",
        "    --- COMPILER ERROR/WARNING ---\n",
        "    {error_line}\n",
        "\n",
        "    Your output should be the entire corrected C++ code with minimal changes.\n",
        "    \"\"\")\n",
        "\n",
        "    response = openai.chat.completions.create(\n",
        "        model=\"gpt-3.5-turbo\",  # or gpt-4 if you have access\n",
        "        messages=[\n",
        "            {\"role\": \"system\", \"content\": \"You are a careful programming assistant.\"},\n",
        "            {\"role\": \"user\", \"content\": prompt}\n",
        "        ],\n",
        "        temperature=0\n",
        "    )\n",
        "    llm_output = response.choices[0].message.content\n",
        "\n",
        "    # Remove any markdown fences:\n",
        "    lines = llm_output.split('\\n')\n",
        "    cleaned = []\n",
        "    for line in lines:\n",
        "        if '```' in line:\n",
        "            continue\n",
        "        cleaned.append(line)\n",
        "    fixed_code = \"\\n\".join(cleaned).strip()\n",
        "\n",
        "    return fixed_code\n",
        "\n",
        "###############################################################################\n",
        "# 4) Main iterative routine:\n",
        "#    - Read original code from test1.cpp\n",
        "#    - Compile\n",
        "#    - Parse all errors\n",
        "#    - Fix the *last* error\n",
        "#    - Repeat\n",
        "###############################################################################\n",
        "def iterative_fix_bottom_up(filename=\"test1.cpp\", max_iterations=10):\n",
        "    \"\"\"\n",
        "    Reads buggy code from filename, attempts to fix\n",
        "    compilation errors in a bottom-up manner (starting from the\n",
        "    last error in the compiler's output).\n",
        "    \"\"\"\n",
        "    # Read entire code into memory\n",
        "    with open(filename, \"r\") as f:\n",
        "        code_lines = f.read()\n",
        "\n",
        "    current_code = code_lines\n",
        "\n",
        "    for iteration in range(1, max_iterations + 1):\n",
        "        print(f\"\\n=== Iteration #{iteration} ===\")\n",
        "\n",
        "        # Write current_code to \"fixed_code.cpp\"\n",
        "        with open(\"fixed_code.cpp\", \"w\") as f:\n",
        "            f.write(current_code)\n",
        "\n",
        "        # Compile\n",
        "        success, compiler_out = compile_code(\"fixed_code.cpp\")\n",
        "\n",
        "        if success:\n",
        "            print(\"Compilation succeeded with -Wall -Werror (no warnings/no errors)!\")\n",
        "            print(\"You can run your program via: !./fixed_executable\")\n",
        "            break\n",
        "        else:\n",
        "            print(\"Compiler output:\\n\")\n",
        "            print(compiler_out)\n",
        "\n",
        "            # Parse all errors\n",
        "            all_errors = parse_all_errors(compiler_out)\n",
        "\n",
        "            if not all_errors:\n",
        "                print(\"No recognized errors/warnings found, but compilation failed.\")\n",
        "                print(\"Possibly a link error or a different message. Stopping.\")\n",
        "                break\n",
        "\n",
        "            # We'll fix the *last* error in the list\n",
        "            # The last element in all_errors is (line_number, entire_error_line)\n",
        "            line_num, error_line = all_errors[-1]\n",
        "\n",
        "            print(f\"\\nFixing the last error from the stack: line {line_num}\")\n",
        "            print(f\"Error message: {error_line}\")\n",
        "\n",
        "            # Ask LLM to fix\n",
        "            fixed_code = ask_llm_to_fix_code(current_code, error_line)\n",
        "\n",
        "            if fixed_code.strip() == current_code.strip():\n",
        "                print(\"LLM did not change the code. Potentially stuck. Stopping.\")\n",
        "                break\n",
        "            else:\n",
        "                # Update current_code\n",
        "                current_code = fixed_code\n",
        "    else:\n",
        "        print(\"\\nReached max iterations without a clean compile. Please inspect manually.\")\n",
        "\n",
        "###############################################################################\n",
        "# 7) Run the iterative fix\n",
        "###############################################################################\n",
        "iterative_fix_bottom_up(\"test2.cpp\", max_iterations=10)\n",
        "\n"
      ],
      "metadata": {
        "colab": {
          "base_uri": "https://localhost:8080/"
        },
        "id": "twcCAVjcfRka",
        "outputId": "ede7b984-95b5-495c-fb31-bc9f5c79904f"
      },
      "execution_count": null,
      "outputs": [
        {
          "output_type": "stream",
          "name": "stdout",
          "text": [
            "\n",
            "=== Iteration #1 ===\n",
            "Compiler output:\n",
            "\n",
            "fixed_code.cpp:4:10: fatal error: cmaths: No such file or directory\n",
            "    4 | #include <cmaths>     // For mathematical functions like cos, sin\n",
            "      |          ^~~~~~~~\n",
            "compilation terminated.\n",
            "\n",
            "Fixing the last error from the stack: line 4\n",
            "Error message: fixed_code.cpp:4:10: fatal error: cmaths: No such file or directory\n",
            "\n",
            "=== Iteration #2 ===\n",
            "Compilation succeeded with -Wall -Werror (no warnings/no errors)!\n",
            "You can run your program via: !./fixed_executable\n"
          ]
        }
      ]
    },
    {
      "cell_type": "code",
      "source": [
        "!g++ fixed_code.cpp -o fixed_code"
      ],
      "metadata": {
        "id": "gGzEzMMwT8bL"
      },
      "execution_count": null,
      "outputs": []
    },
    {
      "cell_type": "code",
      "source": [
        "!g++ test2Copy.cpp -o fixed_code"
      ],
      "metadata": {
        "id": "URW7wxp_RBjV"
      },
      "execution_count": null,
      "outputs": []
    }
  ]
}